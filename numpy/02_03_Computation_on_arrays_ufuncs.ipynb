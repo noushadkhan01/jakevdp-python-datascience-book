{
  "nbformat": 4,
  "nbformat_minor": 0,
  "metadata": {
    "anaconda-cloud": {},
    "kernelspec": {
      "display_name": "Python 3",
      "language": "python",
      "name": "python3"
    },
    "language_info": {
      "codemirror_mode": {
        "name": "ipython",
        "version": 3
      },
      "file_extension": ".py",
      "mimetype": "text/x-python",
      "name": "python",
      "nbconvert_exporter": "python",
      "pygments_lexer": "ipython3",
      "version": "3.5.1"
    },
    "colab": {
      "name": "02.03-Computation-on-arrays-ufuncs.ipynb",
      "provenance": [],
      "include_colab_link": true
    }
  },
  "cells": [
    {
      "cell_type": "markdown",
      "metadata": {
        "id": "view-in-github",
        "colab_type": "text"
      },
      "source": [
        "<a href=\"https://colab.research.google.com/github/noushadkhan01/jakevdp-python-datascience-book/blob/master/numpy/02_03_Computation_on_arrays_ufuncs.ipynb\" target=\"_parent\"><img src=\"https://colab.research.google.com/assets/colab-badge.svg\" alt=\"Open In Colab\"/></a>"
      ]
    },
    {
      "cell_type": "markdown",
      "metadata": {
        "id": "nCtT0QhsLqKY",
        "colab_type": "text"
      },
      "source": [
        "<!--BOOK_INFORMATION-->\n",
        "<img align=\"left\" style=\"padding-right:10px;\" src=\"https://github.com/jakevdp/PythonDataScienceHandbook/blob/master/notebooks/figures/PDSH-cover-small.png?raw=1\">\n",
        "\n",
        "*This notebook contains an excerpt from the [Python Data Science Handbook](http://shop.oreilly.com/product/0636920034919.do) by Jake VanderPlas; the content is available [on GitHub](https://github.com/jakevdp/PythonDataScienceHandbook).*\n",
        "\n",
        "*The text is released under the [CC-BY-NC-ND license](https://creativecommons.org/licenses/by-nc-nd/3.0/us/legalcode), and code is released under the [MIT license](https://opensource.org/licenses/MIT). If you find this content useful, please consider supporting the work by [buying the book](http://shop.oreilly.com/product/0636920034919.do)!*"
      ]
    },
    {
      "cell_type": "markdown",
      "metadata": {
        "id": "cWBadEoBLqKc",
        "colab_type": "text"
      },
      "source": [
        "<!--NAVIGATION-->\n",
        "< [The Basics of NumPy Arrays](02.02-The-Basics-Of-NumPy-Arrays.ipynb) | [Contents](Index.ipynb) | [Aggregations: Min, Max, and Everything In Between](02.04-Computation-on-arrays-aggregates.ipynb) >\n",
        "\n",
        "<a href=\"https://colab.research.google.com/github/jakevdp/PythonDataScienceHandbook/blob/master/notebooks/02.03-Computation-on-arrays-ufuncs.ipynb\"><img align=\"left\" src=\"https://colab.research.google.com/assets/colab-badge.svg\" alt=\"Open in Colab\" title=\"Open and Execute in Google Colaboratory\"></a>\n"
      ]
    },
    {
      "cell_type": "markdown",
      "metadata": {
        "id": "zJ1UdPayLqKe",
        "colab_type": "text"
      },
      "source": [
        "# Computation on NumPy Arrays: Universal Functions"
      ]
    },
    {
      "cell_type": "markdown",
      "metadata": {
        "id": "_mqwYrfwLqKj",
        "colab_type": "text"
      },
      "source": [
        "Up until now, we have been discussing some of the basic nuts and bolts of NumPy; in the next few sections, we will dive into the reasons that NumPy is so important in the Python data science world.\n",
        "Namely, it provides an easy and flexible interface to optimized computation with arrays of data.\n",
        "\n",
        "Computation on NumPy arrays can be very fast, or it can be very slow.\n",
        "The key to making it fast is to use *vectorized* operations, generally implemented through NumPy's *universal functions* (ufuncs).\n",
        "This section motivates the need for NumPy's ufuncs, which can be used to make repeated calculations on array elements much more efficient.\n",
        "It then introduces many of the most common and useful arithmetic ufuncs available in the NumPy package."
      ]
    },
    {
      "cell_type": "markdown",
      "metadata": {
        "id": "eB72WwTVLqKk",
        "colab_type": "text"
      },
      "source": [
        "## The Slowness of Loops\n",
        "\n",
        "Python's default implementation (known as CPython) does some operations very slowly.\n",
        "This is in part due to the dynamic, interpreted nature of the language: the fact that types are flexible, so that sequences of operations cannot be compiled down to efficient machine code as in languages like C and Fortran.\n",
        "Recently there have been various attempts to address this weakness: well-known examples are the [PyPy](http://pypy.org/) project, a just-in-time compiled implementation of Python; the [Cython](http://cython.org) project, which converts Python code to compilable C code; and the [Numba](http://numba.pydata.org/) project, which converts snippets of Python code to fast LLVM bytecode.\n",
        "Each of these has its strengths and weaknesses, but it is safe to say that none of the three approaches has yet surpassed the reach and popularity of the standard CPython engine.\n",
        "\n",
        "The relative sluggishness of Python generally manifests itself in situations where many small operations are being repeated – for instance looping over arrays to operate on each element.\n",
        "For example, imagine we have an array of values and we'd like to compute the reciprocal of each.\n",
        "A straightforward approach might look like this:"
      ]
    },
    {
      "cell_type": "code",
      "metadata": {
        "id": "8R2VRkxbLqKm",
        "colab_type": "code",
        "outputId": "84f8de5a-815b-408a-9654-cea16ef68323",
        "colab": {
          "base_uri": "https://localhost:8080/",
          "height": 34
        }
      },
      "source": [
        "import numpy as np\n",
        "np.random.seed(0)\n",
        "\n",
        "def compute_reciprocals(values):\n",
        "    output = np.empty(len(values))\n",
        "    for i in range(len(values)):\n",
        "        output[i] = 1.0 / values[i]\n",
        "    return output\n",
        "        \n",
        "values = np.random.randint(1, 10, size=5)\n",
        "compute_reciprocals(values)"
      ],
      "execution_count": 12,
      "outputs": [
        {
          "output_type": "execute_result",
          "data": {
            "text/plain": [
              "array([0.16666667, 1.        , 0.25      , 0.25      , 0.125     ])"
            ]
          },
          "metadata": {
            "tags": []
          },
          "execution_count": 12
        }
      ]
    },
    {
      "cell_type": "markdown",
      "metadata": {
        "id": "u9Et-6-tLqKu",
        "colab_type": "text"
      },
      "source": [
        "This implementation probably feels fairly natural to someone from, say, a C or Java background.\n",
        "But if we measure the execution time of this code for a large input, we see that this operation is very slow, perhaps surprisingly so!\n",
        "We'll benchmark this with IPython's ``%timeit`` magic (discussed in [Profiling and Timing Code](01.07-Timing-and-Profiling.ipynb)):"
      ]
    },
    {
      "cell_type": "code",
      "metadata": {
        "id": "rdH_GCRMLqKw",
        "colab_type": "code",
        "colab": {}
      },
      "source": [
        "big_array = np.random.randint(1, 100, size=1000000)"
      ],
      "execution_count": 0,
      "outputs": []
    },
    {
      "cell_type": "code",
      "metadata": {
        "id": "jXGdkzF-Y6hm",
        "colab_type": "code",
        "colab": {
          "base_uri": "https://localhost:8080/",
          "height": 34
        },
        "outputId": "6868a1b2-d9d7-4ba1-cd6a-41c81a75886d"
      },
      "source": [
        "%timeit compute_reciprocals(big_array)"
      ],
      "execution_count": 15,
      "outputs": [
        {
          "output_type": "stream",
          "text": [
            "1 loop, best of 3: 2.37 s per loop\n"
          ],
          "name": "stdout"
        }
      ]
    },
    {
      "cell_type": "markdown",
      "metadata": {
        "id": "9kovkwFBLqK1",
        "colab_type": "text"
      },
      "source": [
        "It takes several seconds to compute these million operations and to store the result!\n",
        "When even cell phones have processing speeds measured in Giga-FLOPS (i.e., billions of numerical operations per second), this seems almost absurdly slow.\n",
        "It turns out that the bottleneck here is not the operations themselves, but the type-checking and function dispatches that CPython must do at each cycle of the loop.\n",
        "Each time the reciprocal is computed, Python first examines the object's type and does a dynamic lookup of the correct function to use for that type.\n",
        "If we were working in compiled code instead, this type specification would be known before the code executes and the result could be computed much more efficiently."
      ]
    },
    {
      "cell_type": "markdown",
      "metadata": {
        "id": "LFSMJsLoLqK3",
        "colab_type": "text"
      },
      "source": [
        "## Introducing UFuncs\n",
        "\n",
        "For many types of operations, NumPy provides a convenient interface into just this kind of statically typed, compiled routine. This is known as a *vectorized* operation.\n",
        "This can be accomplished by simply performing an operation on the array, which will then be applied to each element.\n",
        "This vectorized approach is designed to push the loop into the compiled layer that underlies NumPy, leading to much faster execution.\n",
        "\n",
        "Compare the results of the following two:"
      ]
    },
    {
      "cell_type": "code",
      "metadata": {
        "id": "RSJMuALHZE_5",
        "colab_type": "code",
        "colab": {}
      },
      "source": [
        "def compute_reciprocals_by_vector(values):\n",
        "  return 1.0 / values"
      ],
      "execution_count": 0,
      "outputs": []
    },
    {
      "cell_type": "code",
      "metadata": {
        "id": "eXkHf0f9ZPnA",
        "colab_type": "code",
        "colab": {
          "base_uri": "https://localhost:8080/",
          "height": 34
        },
        "outputId": "b43aec49-9c15-4669-cff5-86bda7b5a493"
      },
      "source": [
        "%timeit compute_reciprocals_by_vector(big_array)"
      ],
      "execution_count": 21,
      "outputs": [
        {
          "output_type": "stream",
          "text": [
            "100 loops, best of 3: 2.62 ms per loop\n"
          ],
          "name": "stdout"
        }
      ]
    },
    {
      "cell_type": "markdown",
      "metadata": {
        "id": "bH_acq1KLqK-",
        "colab_type": "text"
      },
      "source": [
        "Looking at the execution time for our big array, we see that it completes orders of magnitude faster than the Python loop:"
      ]
    },
    {
      "cell_type": "code",
      "metadata": {
        "id": "23qR0sdrLqK_",
        "colab_type": "code",
        "outputId": "dd973c67-7053-4586-eecc-a954c49a6841",
        "colab": {
          "base_uri": "https://localhost:8080/",
          "height": 51
        }
      },
      "source": [
        "%timeit (1.0 / big_array)"
      ],
      "execution_count": 23,
      "outputs": [
        {
          "output_type": "stream",
          "text": [
            "The slowest run took 4.42 times longer than the fastest. This could mean that an intermediate result is being cached.\n",
            "100 loops, best of 3: 2.63 ms per loop\n"
          ],
          "name": "stdout"
        }
      ]
    },
    {
      "cell_type": "markdown",
      "metadata": {
        "id": "woE4r3h8LqLG",
        "colab_type": "text"
      },
      "source": [
        "Vectorized operations in NumPy are implemented via *ufuncs*, whose main purpose is to quickly execute repeated operations on values in NumPy arrays.\n",
        "Ufuncs are extremely flexible – before we saw an operation between a scalar and an array, but we can also operate between two arrays:"
      ]
    },
    {
      "cell_type": "code",
      "metadata": {
        "id": "lAQ07aCuLqLH",
        "colab_type": "code",
        "outputId": "c14289bf-65ae-4952-df09-4b94d23cd56f",
        "colab": {
          "base_uri": "https://localhost:8080/",
          "height": 34
        }
      },
      "source": [
        "np.arange(5) / np.arange(1, 6)"
      ],
      "execution_count": 24,
      "outputs": [
        {
          "output_type": "execute_result",
          "data": {
            "text/plain": [
              "array([0.        , 0.5       , 0.66666667, 0.75      , 0.8       ])"
            ]
          },
          "metadata": {
            "tags": []
          },
          "execution_count": 24
        }
      ]
    },
    {
      "cell_type": "markdown",
      "metadata": {
        "id": "HSR8iDIQLqLM",
        "colab_type": "text"
      },
      "source": [
        "And ufunc operations are not limited to one-dimensional arrays–they can also act on multi-dimensional arrays as well:"
      ]
    },
    {
      "cell_type": "code",
      "metadata": {
        "id": "vh-Tp2zrLqLN",
        "colab_type": "code",
        "outputId": "e5badd0f-a922-494c-ecd7-9146b64a4f64",
        "colab": {
          "base_uri": "https://localhost:8080/",
          "height": 68
        }
      },
      "source": [
        "x = np.arange(9).reshape((3, 3))\n",
        "2 ** x"
      ],
      "execution_count": 25,
      "outputs": [
        {
          "output_type": "execute_result",
          "data": {
            "text/plain": [
              "array([[  1,   2,   4],\n",
              "       [  8,  16,  32],\n",
              "       [ 64, 128, 256]])"
            ]
          },
          "metadata": {
            "tags": []
          },
          "execution_count": 25
        }
      ]
    },
    {
      "cell_type": "markdown",
      "metadata": {
        "id": "aMCToQkYLqLU",
        "colab_type": "text"
      },
      "source": [
        "Computations using vectorization through ufuncs are nearly always more efficient than their counterpart implemented using Python loops, especially as the arrays grow in size.\n",
        "Any time you see such a loop in a Python script, you should consider whether it can be replaced with a vectorized expression."
      ]
    },
    {
      "cell_type": "markdown",
      "metadata": {
        "id": "6_iQfr0oLqLW",
        "colab_type": "text"
      },
      "source": [
        "## Exploring NumPy's UFuncs\n",
        "\n",
        "Ufuncs exist in two flavors: *unary ufuncs*, which operate on a single input, and *binary ufuncs*, which operate on two inputs.\n",
        "We'll see examples of both these types of functions here."
      ]
    },
    {
      "cell_type": "markdown",
      "metadata": {
        "id": "RCP-aP9NLqLY",
        "colab_type": "text"
      },
      "source": [
        "### Array arithmetic\n",
        "\n",
        "NumPy's ufuncs feel very natural to use because they make use of Python's native arithmetic operators.\n",
        "The standard addition, subtraction, multiplication, and division can all be used:"
      ]
    },
    {
      "cell_type": "code",
      "metadata": {
        "id": "R4_B2UI8LqLa",
        "colab_type": "code",
        "outputId": "a67c5cd9-c133-4106-9c40-33a093805890",
        "colab": {
          "base_uri": "https://localhost:8080/",
          "height": 119
        }
      },
      "source": [
        "x = np.arange(4)\n",
        "print(\"x     =\", x)\n",
        "print(\"x + 5 =\", x + 5)\n",
        "print(\"x - 5 =\", x - 5)\n",
        "print(\"x * 2 =\", x * 2)\n",
        "print(\"x / 2 =\", x / 2)\n",
        "print(\"x // 2 =\", x // 2)  # floor division"
      ],
      "execution_count": 26,
      "outputs": [
        {
          "output_type": "stream",
          "text": [
            "x     = [0 1 2 3]\n",
            "x + 5 = [5 6 7 8]\n",
            "x - 5 = [-5 -4 -3 -2]\n",
            "x * 2 = [0 2 4 6]\n",
            "x / 2 = [0.  0.5 1.  1.5]\n",
            "x // 2 = [0 0 1 1]\n"
          ],
          "name": "stdout"
        }
      ]
    },
    {
      "cell_type": "markdown",
      "metadata": {
        "id": "b245plHrLqLe",
        "colab_type": "text"
      },
      "source": [
        "There is also a unary ufunc for negation, and a ``**`` operator for exponentiation, and a ``%`` operator for modulus:"
      ]
    },
    {
      "cell_type": "code",
      "metadata": {
        "id": "07a8c0RrLqLf",
        "colab_type": "code",
        "outputId": "9606974f-f372-4331-fb89-613b394a583f",
        "colab": {
          "base_uri": "https://localhost:8080/",
          "height": 68
        }
      },
      "source": [
        "print(\"-x     = \", -x)\n",
        "print(\"x ** 2 = \", x ** 2)\n",
        "print(\"x % 2  = \", x % 2)"
      ],
      "execution_count": 27,
      "outputs": [
        {
          "output_type": "stream",
          "text": [
            "-x     =  [ 0 -1 -2 -3]\n",
            "x ** 2 =  [0 1 4 9]\n",
            "x % 2  =  [0 1 0 1]\n"
          ],
          "name": "stdout"
        }
      ]
    },
    {
      "cell_type": "markdown",
      "metadata": {
        "id": "xKodfKNyLqLj",
        "colab_type": "text"
      },
      "source": [
        "In addition, these can be strung together however you wish, and the standard order of operations is respected:"
      ]
    },
    {
      "cell_type": "code",
      "metadata": {
        "id": "s-34nQ13LqLk",
        "colab_type": "code",
        "outputId": "0f822148-4eb8-45b8-9c8d-284ba9b6160e",
        "colab": {
          "base_uri": "https://localhost:8080/",
          "height": 34
        }
      },
      "source": [
        "-(0.5*x + 1) ** 2"
      ],
      "execution_count": 28,
      "outputs": [
        {
          "output_type": "execute_result",
          "data": {
            "text/plain": [
              "array([-1.  , -2.25, -4.  , -6.25])"
            ]
          },
          "metadata": {
            "tags": []
          },
          "execution_count": 28
        }
      ]
    },
    {
      "cell_type": "markdown",
      "metadata": {
        "id": "sU2wyx1TLqLp",
        "colab_type": "text"
      },
      "source": [
        "Each of these arithmetic operations are simply convenient wrappers around specific functions built into NumPy; for example, the ``+`` operator is a wrapper for the ``add`` function:"
      ]
    },
    {
      "cell_type": "code",
      "metadata": {
        "id": "Zx8OcVCCLqLq",
        "colab_type": "code",
        "outputId": "db4e7c02-1e9c-4571-bcd2-ff599a56ef94",
        "colab": {
          "base_uri": "https://localhost:8080/",
          "height": 34
        }
      },
      "source": [
        "%timeit np.add(np.arange(100000000), 2)"
      ],
      "execution_count": 33,
      "outputs": [
        {
          "output_type": "stream",
          "text": [
            "1 loop, best of 3: 244 ms per loop\n"
          ],
          "name": "stdout"
        }
      ]
    },
    {
      "cell_type": "markdown",
      "metadata": {
        "id": "Ld4PXitALqLw",
        "colab_type": "text"
      },
      "source": [
        "The following table lists the arithmetic operators implemented in NumPy:\n",
        "\n",
        "| Operator\t    | Equivalent ufunc    | Description                           |\n",
        "|---------------|---------------------|---------------------------------------|\n",
        "|``+``          |``np.add``           |Addition (e.g., ``1 + 1 = 2``)         |\n",
        "|``-``          |``np.subtract``      |Subtraction (e.g., ``3 - 2 = 1``)      |\n",
        "|``-``          |``np.negative``      |Unary negation (e.g., ``-2``)          |\n",
        "|``*``          |``np.multiply``      |Multiplication (e.g., ``2 * 3 = 6``)   |\n",
        "|``/``          |``np.divide``        |Division (e.g., ``3 / 2 = 1.5``)       |\n",
        "|``//``         |``np.floor_divide``  |Floor division (e.g., ``3 // 2 = 1``)  |\n",
        "|``**``         |``np.power``         |Exponentiation (e.g., ``2 ** 3 = 8``)  |\n",
        "|``%``          |``np.mod``           |Modulus/remainder (e.g., ``9 % 4 = 1``)|\n",
        "\n",
        "Additionally there are Boolean/bitwise operators; we will explore these in [Comparisons, Masks, and Boolean Logic](02.06-Boolean-Arrays-and-Masks.ipynb)."
      ]
    },
    {
      "cell_type": "markdown",
      "metadata": {
        "id": "rxUgtp5FLqLx",
        "colab_type": "text"
      },
      "source": [
        "### Absolute value\n",
        "\n",
        "Just as NumPy understands Python's built-in arithmetic operators, it also understands Python's built-in absolute value function:"
      ]
    },
    {
      "cell_type": "code",
      "metadata": {
        "id": "NoLhebS9LqLz",
        "colab_type": "code",
        "outputId": "78089b7e-84bc-4433-d28d-2830e55d1388",
        "colab": {
          "base_uri": "https://localhost:8080/",
          "height": 34
        }
      },
      "source": [
        "%timeit abs(big_array)"
      ],
      "execution_count": 35,
      "outputs": [
        {
          "output_type": "stream",
          "text": [
            "1000 loops, best of 3: 1.14 ms per loop\n"
          ],
          "name": "stdout"
        }
      ]
    },
    {
      "cell_type": "code",
      "metadata": {
        "id": "lN0cPBKZdSfT",
        "colab_type": "code",
        "colab": {
          "base_uri": "https://localhost:8080/",
          "height": 34
        },
        "outputId": "2efdca98-0734-4d81-87ab-6c8de10edae2"
      },
      "source": [
        "%timeit np.abs(big_array)"
      ],
      "execution_count": 36,
      "outputs": [
        {
          "output_type": "stream",
          "text": [
            "1000 loops, best of 3: 1.16 ms per loop\n"
          ],
          "name": "stdout"
        }
      ]
    },
    {
      "cell_type": "code",
      "metadata": {
        "id": "GX6XPG7vdeDh",
        "colab_type": "code",
        "colab": {
          "base_uri": "https://localhost:8080/",
          "height": 34
        },
        "outputId": "1890af80-6ec3-469e-ddcc-fce9982233cf"
      },
      "source": [
        "%timeit np.absolute(big_array)"
      ],
      "execution_count": 37,
      "outputs": [
        {
          "output_type": "stream",
          "text": [
            "1000 loops, best of 3: 1.14 ms per loop\n"
          ],
          "name": "stdout"
        }
      ]
    },
    {
      "cell_type": "markdown",
      "metadata": {
        "id": "Yk1yi4Y7LqL3",
        "colab_type": "text"
      },
      "source": [
        "The corresponding NumPy ufunc is ``np.absolute``, which is also available under the alias ``np.abs``:"
      ]
    },
    {
      "cell_type": "code",
      "metadata": {
        "id": "-UjLfH3cLqL4",
        "colab_type": "code",
        "outputId": "ca182bfa-7f76-43b8-93d5-711477772556",
        "colab": {}
      },
      "source": [
        "np.absolute(x)"
      ],
      "execution_count": 0,
      "outputs": [
        {
          "output_type": "execute_result",
          "data": {
            "text/plain": [
              "array([2, 1, 0, 1, 2])"
            ]
          },
          "metadata": {
            "tags": []
          },
          "execution_count": 12
        }
      ]
    },
    {
      "cell_type": "code",
      "metadata": {
        "id": "g7JSQHtQLqL8",
        "colab_type": "code",
        "outputId": "e0635d58-b626-4a04-c113-72e0bdc154c8",
        "colab": {}
      },
      "source": [
        "np.abs(x)"
      ],
      "execution_count": 0,
      "outputs": [
        {
          "output_type": "execute_result",
          "data": {
            "text/plain": [
              "array([2, 1, 0, 1, 2])"
            ]
          },
          "metadata": {
            "tags": []
          },
          "execution_count": 13
        }
      ]
    },
    {
      "cell_type": "markdown",
      "metadata": {
        "id": "w59VzUz7LqMC",
        "colab_type": "text"
      },
      "source": [
        "This ufunc can also handle complex data, in which the absolute value returns the magnitude:"
      ]
    },
    {
      "cell_type": "code",
      "metadata": {
        "id": "Ik8pNCKfLqMD",
        "colab_type": "code",
        "outputId": "9fa5e8e9-1a49-4948-9f8a-6c26aec9a102",
        "colab": {}
      },
      "source": [
        "x = np.array([3 - 4j, 4 - 3j, 2 + 0j, 0 + 1j])\n",
        "np.abs(x)"
      ],
      "execution_count": 0,
      "outputs": [
        {
          "output_type": "execute_result",
          "data": {
            "text/plain": [
              "array([ 5.,  5.,  2.,  1.])"
            ]
          },
          "metadata": {
            "tags": []
          },
          "execution_count": 14
        }
      ]
    },
    {
      "cell_type": "markdown",
      "metadata": {
        "id": "I_k3av9tLqMI",
        "colab_type": "text"
      },
      "source": [
        "### Trigonometric functions\n",
        "\n",
        "NumPy provides a large number of useful ufuncs, and some of the most useful for the data scientist are the trigonometric functions.\n",
        "We'll start by defining an array of angles:"
      ]
    },
    {
      "cell_type": "code",
      "metadata": {
        "id": "tNs37Nh5LqMJ",
        "colab_type": "code",
        "colab": {
          "base_uri": "https://localhost:8080/",
          "height": 34
        },
        "outputId": "3314dd4f-140c-4768-dcee-af02160a1efa"
      },
      "source": [
        "theta = np.linspace(0, np.pi, num = 3)\n",
        "theta"
      ],
      "execution_count": 47,
      "outputs": [
        {
          "output_type": "execute_result",
          "data": {
            "text/plain": [
              "array([0.        , 1.57079633, 3.14159265])"
            ]
          },
          "metadata": {
            "tags": []
          },
          "execution_count": 47
        }
      ]
    },
    {
      "cell_type": "code",
      "metadata": {
        "id": "iIz4nyv7e_BF",
        "colab_type": "code",
        "colab": {
          "base_uri": "https://localhost:8080/",
          "height": 34
        },
        "outputId": "cfa0b985-d6cd-49f4-f703-8170b455d6ce"
      },
      "source": [
        "np.pi/2"
      ],
      "execution_count": 48,
      "outputs": [
        {
          "output_type": "execute_result",
          "data": {
            "text/plain": [
              "1.5707963267948966"
            ]
          },
          "metadata": {
            "tags": []
          },
          "execution_count": 48
        }
      ]
    },
    {
      "cell_type": "markdown",
      "metadata": {
        "id": "ZHlniUloLqMM",
        "colab_type": "text"
      },
      "source": [
        "Now we can compute some trigonometric functions on these values:"
      ]
    },
    {
      "cell_type": "code",
      "metadata": {
        "id": "fuAzeSFaLqMO",
        "colab_type": "code",
        "outputId": "99a5e3aa-344c-4704-fe97-ddb1a60f6170",
        "colab": {
          "base_uri": "https://localhost:8080/",
          "height": 85
        }
      },
      "source": [
        "print(\"\\u03F4      = \", theta)\n",
        "print(\"sin\\u03F4 = \", np.sin(theta))\n",
        "print(\"cos\\u03F4 = \", np.cos(theta))\n",
        "print(\"tan\\u03F4 = \", np.tan(theta))"
      ],
      "execution_count": 44,
      "outputs": [
        {
          "output_type": "stream",
          "text": [
            "ϴ      =  [0.         1.57079633 3.14159265]\n",
            "sinϴ =  [0.0000000e+00 1.0000000e+00 1.2246468e-16]\n",
            "cosϴ =  [ 1.000000e+00  6.123234e-17 -1.000000e+00]\n",
            "tanϴ =  [ 0.00000000e+00  1.63312394e+16 -1.22464680e-16]\n"
          ],
          "name": "stdout"
        }
      ]
    },
    {
      "cell_type": "markdown",
      "metadata": {
        "id": "h9aqX495LqMR",
        "colab_type": "text"
      },
      "source": [
        "The values are computed to within machine precision, which is why values that should be zero do not always hit exactly zero.\n",
        "Inverse trigonometric functions are also available:"
      ]
    },
    {
      "cell_type": "code",
      "metadata": {
        "id": "j8hKxHtwLqMS",
        "colab_type": "code",
        "outputId": "ab01b5e8-e71f-4d17-d45d-bd82610313d4",
        "colab": {
          "base_uri": "https://localhost:8080/",
          "height": 85
        }
      },
      "source": [
        "x = [-1, 0, 1]\n",
        "print(\"x         = \", x)\n",
        "print(\"arcsin(x) = \", np.arcsin(x))\n",
        "print(\"arccos(x) = \", np.arccos(x))\n",
        "print(\"arctan(x) = \", np.arctan(x))"
      ],
      "execution_count": 49,
      "outputs": [
        {
          "output_type": "stream",
          "text": [
            "x         =  [-1, 0, 1]\n",
            "arcsin(x) =  [-1.57079633  0.          1.57079633]\n",
            "arccos(x) =  [3.14159265 1.57079633 0.        ]\n",
            "arctan(x) =  [-0.78539816  0.          0.78539816]\n"
          ],
          "name": "stdout"
        }
      ]
    },
    {
      "cell_type": "markdown",
      "metadata": {
        "id": "SjStbv13LqMW",
        "colab_type": "text"
      },
      "source": [
        "### Exponents and logarithms\n",
        "\n",
        "Another common type of operation available in a NumPy ufunc are the exponentials:"
      ]
    },
    {
      "cell_type": "code",
      "metadata": {
        "id": "98e6hXdDLqMY",
        "colab_type": "code",
        "outputId": "0c10fc28-646a-461a-b592-9f8662025c5a",
        "colab": {
          "base_uri": "https://localhost:8080/",
          "height": 85
        }
      },
      "source": [
        "x = [1, 2, 3]\n",
        "print(\"x    =\", x)\n",
        "print(f\"e^x   =\", np.exp(x))\n",
        "print(\"2^x   =\", np.exp2(x))\n",
        "print(\"3^x   =\", np.power(3, x))"
      ],
      "execution_count": 55,
      "outputs": [
        {
          "output_type": "stream",
          "text": [
            "x    = [1, 2, 3]\n",
            "e^x   = [ 2.71828183  7.3890561  20.08553692]\n",
            "2^x   = [2. 4. 8.]\n",
            "3^x   = [ 3  9 27]\n"
          ],
          "name": "stdout"
        }
      ]
    },
    {
      "cell_type": "markdown",
      "metadata": {
        "id": "b9yJ6OK6LqMc",
        "colab_type": "text"
      },
      "source": [
        "The inverse of the exponentials, the logarithms, are also available.\n",
        "The basic ``np.log`` gives the natural logarithm; if you prefer to compute the base-2 logarithm or the base-10 logarithm, these are available as well:"
      ]
    },
    {
      "cell_type": "code",
      "metadata": {
        "id": "Dd2MJIvWLqMe",
        "colab_type": "code",
        "outputId": "876f3f4f-294a-4c92-e0d6-329a735ae2b1",
        "colab": {}
      },
      "source": [
        "x = [1, 2, 4, 10]\n",
        "print(\"x        =\", x)\n",
        "print(\"ln(x)    =\", np.log(x))\n",
        "print(\"log2(x)  =\", np.log2(x))\n",
        "print(\"log10(x) =\", np.log10(x))"
      ],
      "execution_count": 0,
      "outputs": [
        {
          "output_type": "stream",
          "text": [
            "x        = [1, 2, 4, 10]\n",
            "ln(x)    = [ 0.          0.69314718  1.38629436  2.30258509]\n",
            "log2(x)  = [ 0.          1.          2.          3.32192809]\n",
            "log10(x) = [ 0.          0.30103     0.60205999  1.        ]\n"
          ],
          "name": "stdout"
        }
      ]
    },
    {
      "cell_type": "markdown",
      "metadata": {
        "id": "LOt2eJzHLqMi",
        "colab_type": "text"
      },
      "source": [
        "There are also some specialized versions that are useful for maintaining precision with very small input:"
      ]
    },
    {
      "cell_type": "code",
      "metadata": {
        "id": "gs-twv78LqMj",
        "colab_type": "code",
        "outputId": "801ccd4b-8b9d-4610-9745-c11928afbde5",
        "colab": {}
      },
      "source": [
        "x = [0, 0.001, 0.01, 0.1]\n",
        "print(\"exp(x) - 1 =\", np.expm1(x))\n",
        "print(\"log(1 + x) =\", np.log1p(x))"
      ],
      "execution_count": 0,
      "outputs": [
        {
          "output_type": "stream",
          "text": [
            "exp(x) - 1 = [ 0.          0.0010005   0.01005017  0.10517092]\n",
            "log(1 + x) = [ 0.          0.0009995   0.00995033  0.09531018]\n"
          ],
          "name": "stdout"
        }
      ]
    },
    {
      "cell_type": "markdown",
      "metadata": {
        "id": "_kNHxlqSLqMp",
        "colab_type": "text"
      },
      "source": [
        "When ``x`` is very small, these functions give more precise values than if the raw ``np.log`` or ``np.exp`` were to be used."
      ]
    },
    {
      "cell_type": "markdown",
      "metadata": {
        "id": "8COQeGL-LqMq",
        "colab_type": "text"
      },
      "source": [
        "### Specialized ufuncs\n",
        "\n",
        "NumPy has many more ufuncs available, including hyperbolic trig functions, bitwise arithmetic, comparison operators, conversions from radians to degrees, rounding and remainders, and much more.\n",
        "A look through the NumPy documentation reveals a lot of interesting functionality.\n",
        "\n",
        "Another excellent source for more specialized and obscure ufuncs is the submodule ``scipy.special``.\n",
        "If you want to compute some obscure mathematical function on your data, chances are it is implemented in ``scipy.special``.\n",
        "There are far too many functions to list them all, but the following snippet shows a couple that might come up in a statistics context:"
      ]
    },
    {
      "cell_type": "code",
      "metadata": {
        "id": "4T7s9x7GLqMr",
        "colab_type": "code",
        "colab": {}
      },
      "source": [
        "from scipy import special"
      ],
      "execution_count": 0,
      "outputs": []
    },
    {
      "cell_type": "code",
      "metadata": {
        "id": "stAYJ-RPLqMw",
        "colab_type": "code",
        "outputId": "9ce0732f-2dcc-4b46-a7f0-3eaca414a158",
        "colab": {
          "base_uri": "https://localhost:8080/",
          "height": 68
        }
      },
      "source": [
        "# Gamma functions (generalized factorials) and related functions\n",
        "x = [1, 5, 10]\n",
        "print(\"\\u03B3(x)     =\", special.gamma(x))\n",
        "print(\"ln|\\u03B3(x)| =\", special.gammaln(x))\n",
        "print(\"\\u03B2(x, 2)  =\", special.beta(x, 2))"
      ],
      "execution_count": 59,
      "outputs": [
        {
          "output_type": "stream",
          "text": [
            "γ(x)     = [1.0000e+00 2.4000e+01 3.6288e+05]\n",
            "ln|γ(x)| = [ 0.          3.17805383 12.80182748]\n",
            "β(x, 2)  = [0.5        0.03333333 0.00909091]\n"
          ],
          "name": "stdout"
        }
      ]
    },
    {
      "cell_type": "code",
      "metadata": {
        "id": "X1Xcx4E6LqM0",
        "colab_type": "code",
        "outputId": "b4ad14ef-9cb8-4269-cc7d-eb8c2b48ff42",
        "colab": {}
      },
      "source": [
        "# Error function (integral of Gaussian)\n",
        "# its complement, and its inverse\n",
        "x = np.array([0, 0.3, 0.7, 1.0])\n",
        "print(\"erf(x)  =\", special.erf(x))\n",
        "print(\"erfc(x) =\", special.erfc(x))\n",
        "print(\"erfinv(x) =\", special.erfinv(x))"
      ],
      "execution_count": 0,
      "outputs": [
        {
          "output_type": "stream",
          "text": [
            "erf(x)  = [ 0.          0.32862676  0.67780119  0.84270079]\n",
            "erfc(x) = [ 1.          0.67137324  0.32219881  0.15729921]\n",
            "erfinv(x) = [ 0.          0.27246271  0.73286908         inf]\n"
          ],
          "name": "stdout"
        }
      ]
    },
    {
      "cell_type": "markdown",
      "metadata": {
        "id": "Z_HWPDGJLqM8",
        "colab_type": "text"
      },
      "source": [
        "There are many, many more ufuncs available in both NumPy and ``scipy.special``.\n",
        "Because the documentation of these packages is available online, a web search along the lines of \"gamma function python\" will generally find the relevant information."
      ]
    },
    {
      "cell_type": "markdown",
      "metadata": {
        "id": "qoWsx-dpLqM-",
        "colab_type": "text"
      },
      "source": [
        "## Advanced Ufunc Features\n",
        "\n",
        "Many NumPy users make use of ufuncs without ever learning their full set of features.\n",
        "We'll outline a few specialized features of ufuncs here."
      ]
    },
    {
      "cell_type": "markdown",
      "metadata": {
        "id": "UOTt9-AELqM_",
        "colab_type": "text"
      },
      "source": [
        "### Specifying output\n",
        "\n",
        "For large calculations, it is sometimes useful to be able to specify the array where the result of the calculation will be stored.\n",
        "Rather than creating a temporary array, this can be used to write computation results directly to the memory location where you'd like them to be.\n",
        "For all ufuncs, this can be done using the ``out`` argument of the function:"
      ]
    },
    {
      "cell_type": "code",
      "metadata": {
        "id": "YcmB5WtlLqNA",
        "colab_type": "code",
        "outputId": "4c860bf2-b4b6-4707-80e3-c24f9c774b90",
        "colab": {
          "base_uri": "https://localhost:8080/",
          "height": 34
        }
      },
      "source": [
        "x = np.arange(5)\n",
        "y = np.empty(5)\n",
        "np.multiply(x, 10, out=y)\n",
        "print(y)"
      ],
      "execution_count": 60,
      "outputs": [
        {
          "output_type": "stream",
          "text": [
            "[ 0. 10. 20. 30. 40.]\n"
          ],
          "name": "stdout"
        }
      ]
    },
    {
      "cell_type": "markdown",
      "metadata": {
        "id": "HOsb3INgLqND",
        "colab_type": "text"
      },
      "source": [
        "This can even be used with array views. For example, we can write the results of a computation to every other element of a specified array:"
      ]
    },
    {
      "cell_type": "code",
      "metadata": {
        "id": "qqBKS5exLqNE",
        "colab_type": "code",
        "outputId": "7b50bf9e-3650-4382-d901-db1a835e5a97",
        "colab": {
          "base_uri": "https://localhost:8080/",
          "height": 34
        }
      },
      "source": [
        "y = np.zeros(10)\n",
        "np.power(2, x, out=y[::2])\n",
        "print(y)"
      ],
      "execution_count": 62,
      "outputs": [
        {
          "output_type": "stream",
          "text": [
            "[ 1.  0.  2.  0.  4.  0.  8.  0. 16.  0.]\n"
          ],
          "name": "stdout"
        }
      ]
    },
    {
      "cell_type": "markdown",
      "metadata": {
        "id": "tBjeC6sjLqNI",
        "colab_type": "text"
      },
      "source": [
        "If we had instead written ``y[::2] = 2 ** x``, this would have resulted in the creation of a temporary array to hold the results of ``2 ** x``, followed by a second operation copying those values into the ``y`` array.\n",
        "This doesn't make much of a difference for such a small computation, but for very large arrays the memory savings from careful use of the ``out`` argument can be significant."
      ]
    },
    {
      "cell_type": "markdown",
      "metadata": {
        "id": "1_yScpohLqNJ",
        "colab_type": "text"
      },
      "source": [
        "### Aggregates\n",
        "\n",
        "For binary ufuncs, there are some interesting aggregates that can be computed directly from the object.\n",
        "For example, if we'd like to **reduce** an array with a particular operation, we can use the **``reduce``** method of any ufunc.\n",
        "A reduce repeatedly applies a given operation to the elements of an array until only a single result remains.\n",
        "\n",
        "For example, calling **``reduce``** on the **``add``** ufunc returns the sum of all elements in the array:"
      ]
    },
    {
      "cell_type": "code",
      "metadata": {
        "id": "Tf0Mc0YLLqNK",
        "colab_type": "code",
        "outputId": "33b12428-d4c0-41e0-f396-e6ec5507843e",
        "colab": {
          "base_uri": "https://localhost:8080/",
          "height": 34
        }
      },
      "source": [
        "x = np.arange(1, 6)\n",
        "x"
      ],
      "execution_count": 63,
      "outputs": [
        {
          "output_type": "execute_result",
          "data": {
            "text/plain": [
              "array([1, 2, 3, 4, 5])"
            ]
          },
          "metadata": {
            "tags": []
          },
          "execution_count": 63
        }
      ]
    },
    {
      "cell_type": "code",
      "metadata": {
        "id": "DA6SWm5pmBIy",
        "colab_type": "code",
        "colab": {
          "base_uri": "https://localhost:8080/",
          "height": 34
        },
        "outputId": "f017be94-f918-44d5-8fc1-bfd3673829d0"
      },
      "source": [
        "np.sum(x)"
      ],
      "execution_count": 65,
      "outputs": [
        {
          "output_type": "execute_result",
          "data": {
            "text/plain": [
              "15"
            ]
          },
          "metadata": {
            "tags": []
          },
          "execution_count": 65
        }
      ]
    },
    {
      "cell_type": "code",
      "metadata": {
        "id": "KEVJ_1MFmJED",
        "colab_type": "code",
        "colab": {
          "base_uri": "https://localhost:8080/",
          "height": 34
        },
        "outputId": "85344a84-c38c-4f6e-f551-5b22ea79cfdc"
      },
      "source": [
        "try:\n",
        "  print(np.add(x))\n",
        "except Exception as e:\n",
        "  print(e.__class__.__name__, ':--', e.args[0])"
      ],
      "execution_count": 71,
      "outputs": [
        {
          "output_type": "stream",
          "text": [
            "ValueError :-- invalid number of arguments\n"
          ],
          "name": "stdout"
        }
      ]
    },
    {
      "cell_type": "code",
      "metadata": {
        "id": "3smfboWsl-5c",
        "colab_type": "code",
        "colab": {}
      },
      "source": [
        "np.add.reduce(x)"
      ],
      "execution_count": 0,
      "outputs": []
    },
    {
      "cell_type": "markdown",
      "metadata": {
        "id": "eRdydZ10LqNP",
        "colab_type": "text"
      },
      "source": [
        "Similarly, calling ``reduce`` on the ``multiply`` ufunc results in the product of all array elements:"
      ]
    },
    {
      "cell_type": "code",
      "metadata": {
        "id": "SmOXcL0KLqNR",
        "colab_type": "code",
        "outputId": "7c026267-a47e-449a-fc74-46b805176e5e",
        "colab": {
          "base_uri": "https://localhost:8080/",
          "height": 34
        }
      },
      "source": [
        "np.multiply.reduce(x)"
      ],
      "execution_count": 73,
      "outputs": [
        {
          "output_type": "execute_result",
          "data": {
            "text/plain": [
              "120"
            ]
          },
          "metadata": {
            "tags": []
          },
          "execution_count": 73
        }
      ]
    },
    {
      "cell_type": "markdown",
      "metadata": {
        "id": "q8FCpxT3LqNU",
        "colab_type": "text"
      },
      "source": [
        "If we'd like to store all the intermediate results of the computation, we can instead use ``accumulate``:"
      ]
    },
    {
      "cell_type": "code",
      "metadata": {
        "id": "agXPZwakmv2b",
        "colab_type": "code",
        "colab": {
          "base_uri": "https://localhost:8080/",
          "height": 34
        },
        "outputId": "6e97c531-c26a-45f8-b2a0-bdc3dfe9c968"
      },
      "source": [
        "x"
      ],
      "execution_count": 74,
      "outputs": [
        {
          "output_type": "execute_result",
          "data": {
            "text/plain": [
              "array([1, 2, 3, 4, 5])"
            ]
          },
          "metadata": {
            "tags": []
          },
          "execution_count": 74
        }
      ]
    },
    {
      "cell_type": "code",
      "metadata": {
        "id": "ODppBA0FLqNV",
        "colab_type": "code",
        "outputId": "28de8174-4fc0-49c8-ab4f-a9b581c263ae",
        "colab": {
          "base_uri": "https://localhost:8080/",
          "height": 34
        }
      },
      "source": [
        "np.add.accumulate(x)"
      ],
      "execution_count": 75,
      "outputs": [
        {
          "output_type": "execute_result",
          "data": {
            "text/plain": [
              "array([ 1,  3,  6, 10, 15])"
            ]
          },
          "metadata": {
            "tags": []
          },
          "execution_count": 75
        }
      ]
    },
    {
      "cell_type": "code",
      "metadata": {
        "id": "gsMt_hyaLqNZ",
        "colab_type": "code",
        "outputId": "6c8ecb53-082e-4846-adb3-382ef60de7b9",
        "colab": {
          "base_uri": "https://localhost:8080/",
          "height": 34
        }
      },
      "source": [
        "np.multiply.accumulate(x)"
      ],
      "execution_count": 76,
      "outputs": [
        {
          "output_type": "execute_result",
          "data": {
            "text/plain": [
              "array([  1,   2,   6,  24, 120])"
            ]
          },
          "metadata": {
            "tags": []
          },
          "execution_count": 76
        }
      ]
    },
    {
      "cell_type": "markdown",
      "metadata": {
        "id": "Q3vK8KiHLqNe",
        "colab_type": "text"
      },
      "source": [
        "Note that for these particular cases, there are dedicated NumPy functions to compute the results (``np.sum``, ``np.prod``, ``np.cumsum``, ``np.cumprod``), which we'll explore in [Aggregations: Min, Max, and Everything In Between](02.04-Computation-on-arrays-aggregates.ipynb)."
      ]
    },
    {
      "cell_type": "markdown",
      "metadata": {
        "id": "l5yQ70zHLqNg",
        "colab_type": "text"
      },
      "source": [
        "### Outer products\n",
        "\n",
        "Finally, any ufunc can compute the output of all pairs of two different inputs using the ``outer`` method.\n",
        "This allows you, in one line, to do things like create a multiplication table:"
      ]
    },
    {
      "cell_type": "code",
      "metadata": {
        "scrolled": true,
        "id": "XC6O89wrLqNi",
        "colab_type": "code",
        "outputId": "b4218e6b-d2b8-423b-828d-3aaca368159e",
        "colab": {
          "base_uri": "https://localhost:8080/",
          "height": 34
        }
      },
      "source": [
        "x = np.arange(1, 6)\n",
        "x"
      ],
      "execution_count": 77,
      "outputs": [
        {
          "output_type": "execute_result",
          "data": {
            "text/plain": [
              "array([1, 2, 3, 4, 5])"
            ]
          },
          "metadata": {
            "tags": []
          },
          "execution_count": 77
        }
      ]
    },
    {
      "cell_type": "code",
      "metadata": {
        "id": "KkljlXfYm9yS",
        "colab_type": "code",
        "colab": {
          "base_uri": "https://localhost:8080/",
          "height": 102
        },
        "outputId": "ff8974e2-69ac-499e-f10a-0a0dc4e52046"
      },
      "source": [
        "np.multiply.outer(x, x)"
      ],
      "execution_count": 78,
      "outputs": [
        {
          "output_type": "execute_result",
          "data": {
            "text/plain": [
              "array([[ 1,  2,  3,  4,  5],\n",
              "       [ 2,  4,  6,  8, 10],\n",
              "       [ 3,  6,  9, 12, 15],\n",
              "       [ 4,  8, 12, 16, 20],\n",
              "       [ 5, 10, 15, 20, 25]])"
            ]
          },
          "metadata": {
            "tags": []
          },
          "execution_count": 78
        }
      ]
    },
    {
      "cell_type": "markdown",
      "metadata": {
        "id": "W_XLOo4DLqNt",
        "colab_type": "text"
      },
      "source": [
        "The ``ufunc.at`` and ``ufunc.reduceat`` methods, which we'll explore in [Fancy Indexing](02.07-Fancy-Indexing.ipynb), are very helpful as well.\n",
        "\n",
        "Another extremely useful feature of ufuncs is the ability to operate between arrays of different sizes and shapes, a set of operations known as *broadcasting*.\n",
        "This subject is important enough that we will devote a whole section to it (see [Computation on Arrays: Broadcasting](02.05-Computation-on-arrays-broadcasting.ipynb))."
      ]
    },
    {
      "cell_type": "markdown",
      "metadata": {
        "id": "mPXlDjEDLqNu",
        "colab_type": "text"
      },
      "source": [
        "## Ufuncs: Learning More"
      ]
    },
    {
      "cell_type": "markdown",
      "metadata": {
        "id": "e_Xux118LqNw",
        "colab_type": "text"
      },
      "source": [
        "More information on universal functions (including the full list of available functions) can be found on the [NumPy](http://www.numpy.org) and [SciPy](http://www.scipy.org) documentation websites.\n",
        "\n",
        "Recall that you can also access information directly from within IPython by importing the packages and using IPython's tab-completion and help (``?``) functionality, as described in [Help and Documentation in IPython](01.01-Help-And-Documentation.ipynb)."
      ]
    },
    {
      "cell_type": "markdown",
      "metadata": {
        "id": "qWttiLvBLqNx",
        "colab_type": "text"
      },
      "source": [
        "<!--NAVIGATION-->\n",
        "< [The Basics of NumPy Arrays](02.02-The-Basics-Of-NumPy-Arrays.ipynb) | [Contents](Index.ipynb) | [Aggregations: Min, Max, and Everything In Between](02.04-Computation-on-arrays-aggregates.ipynb) >\n",
        "\n",
        "<a href=\"https://colab.research.google.com/github/jakevdp/PythonDataScienceHandbook/blob/master/notebooks/02.03-Computation-on-arrays-ufuncs.ipynb\"><img align=\"left\" src=\"https://colab.research.google.com/assets/colab-badge.svg\" alt=\"Open in Colab\" title=\"Open and Execute in Google Colaboratory\"></a>\n"
      ]
    }
  ]
}