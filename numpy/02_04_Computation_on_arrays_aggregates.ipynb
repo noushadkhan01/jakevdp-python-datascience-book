{
  "nbformat": 4,
  "nbformat_minor": 0,
  "metadata": {
    "anaconda-cloud": {},
    "kernelspec": {
      "display_name": "Python 3",
      "language": "python",
      "name": "python3"
    },
    "language_info": {
      "codemirror_mode": {
        "name": "ipython",
        "version": 3
      },
      "file_extension": ".py",
      "mimetype": "text/x-python",
      "name": "python",
      "nbconvert_exporter": "python",
      "pygments_lexer": "ipython3",
      "version": "3.5.1"
    },
    "colab": {
      "name": "02.04-Computation-on-arrays-aggregates.ipynb",
      "provenance": [],
      "include_colab_link": true
    }
  },
  "cells": [
    {
      "cell_type": "markdown",
      "metadata": {
        "id": "view-in-github",
        "colab_type": "text"
      },
      "source": [
        "<a href=\"https://colab.research.google.com/github/noushadkhan01/jakevdp-python-datascience-book/blob/master/numpy/02_04_Computation_on_arrays_aggregates.ipynb\" target=\"_parent\"><img src=\"https://colab.research.google.com/assets/colab-badge.svg\" alt=\"Open In Colab\"/></a>"
      ]
    },
    {
      "cell_type": "markdown",
      "metadata": {
        "id": "PAJ8qasKZT6y",
        "colab_type": "text"
      },
      "source": [
        "<!--BOOK_INFORMATION-->\n",
        "<img align=\"left\" style=\"padding-right:10px;\" src=\"https://github.com/jakevdp/PythonDataScienceHandbook/blob/master/notebooks/figures/PDSH-cover-small.png?raw=1\">\n",
        "\n",
        "*This notebook contains an excerpt from the [Python Data Science Handbook](http://shop.oreilly.com/product/0636920034919.do) by Jake VanderPlas; the content is available [on GitHub](https://github.com/jakevdp/PythonDataScienceHandbook).*\n",
        "\n",
        "*The text is released under the [CC-BY-NC-ND license](https://creativecommons.org/licenses/by-nc-nd/3.0/us/legalcode), and code is released under the [MIT license](https://opensource.org/licenses/MIT). If you find this content useful, please consider supporting the work by [buying the book](http://shop.oreilly.com/product/0636920034919.do)!*"
      ]
    },
    {
      "cell_type": "markdown",
      "metadata": {
        "id": "eeL8LmoKZT66",
        "colab_type": "text"
      },
      "source": [
        "<!--NAVIGATION-->\n",
        "< [Computation on NumPy Arrays: Universal Functions](02.03-Computation-on-arrays-ufuncs.ipynb) | [Contents](Index.ipynb) | [Computation on Arrays: Broadcasting](02.05-Computation-on-arrays-broadcasting.ipynb) >"
      ]
    },
    {
      "cell_type": "markdown",
      "metadata": {
        "id": "noc-hh_dZT6_",
        "colab_type": "text"
      },
      "source": [
        "# Aggregations: Min, Max, and Everything In Between"
      ]
    },
    {
      "cell_type": "markdown",
      "metadata": {
        "id": "x39h4UsFZT7F",
        "colab_type": "text"
      },
      "source": [
        "Often when faced with a large amount of data, a first step is to compute summary statistics for the data in question.\n",
        "Perhaps the most common summary statistics are the mean and standard deviation, which allow you to summarize the \"typical\" values in a dataset, but other aggregates are useful as well (the sum, product, median, minimum and maximum, quantiles, etc.).\n",
        "\n",
        "NumPy has fast built-in aggregation functions for working on arrays; we'll discuss and demonstrate some of them here."
      ]
    },
    {
      "cell_type": "markdown",
      "metadata": {
        "id": "PPVFF6AsZT7I",
        "colab_type": "text"
      },
      "source": [
        "## Summing the Values in an Array\n",
        "\n",
        "As a quick example, consider computing the sum of all values in an array.\n",
        "Python itself can do this using the built-in ``sum`` function:"
      ]
    },
    {
      "cell_type": "code",
      "metadata": {
        "id": "h0ba1FK_ZT7K",
        "colab_type": "code",
        "colab": {}
      },
      "source": [
        "import numpy as np"
      ],
      "execution_count": 0,
      "outputs": []
    },
    {
      "cell_type": "code",
      "metadata": {
        "id": "iz0JnUzGZT7T",
        "colab_type": "code",
        "outputId": "33328ce5-ad3b-4d99-ab4e-5d0f9c843d1e",
        "colab": {
          "base_uri": "https://localhost:8080/",
          "height": 34
        }
      },
      "source": [
        "L = np.random.random(100)\n",
        "sum(L)"
      ],
      "execution_count": 2,
      "outputs": [
        {
          "output_type": "execute_result",
          "data": {
            "text/plain": [
              "51.76097401629808"
            ]
          },
          "metadata": {
            "tags": []
          },
          "execution_count": 2
        }
      ]
    },
    {
      "cell_type": "code",
      "metadata": {
        "id": "wZ-XZaI4aByo",
        "colab_type": "code",
        "colab": {
          "base_uri": "https://localhost:8080/",
          "height": 68
        },
        "outputId": "55f8a3e5-a34c-402f-80ef-f6c7f0beaaef"
      },
      "source": [
        "np.random.random((3, 4))"
      ],
      "execution_count": 6,
      "outputs": [
        {
          "output_type": "execute_result",
          "data": {
            "text/plain": [
              "array([[0.64537247, 0.86722926, 0.18186289, 0.82482569],\n",
              "       [0.84726753, 0.14338129, 0.20443911, 0.60827392],\n",
              "       [0.87732648, 0.66892115, 0.92423419, 0.33471065]])"
            ]
          },
          "metadata": {
            "tags": []
          },
          "execution_count": 6
        }
      ]
    },
    {
      "cell_type": "markdown",
      "metadata": {
        "id": "YJE5doGvZT7a",
        "colab_type": "text"
      },
      "source": [
        "The syntax is quite similar to that of NumPy's ``sum`` function, and the result is the same in the simplest case:"
      ]
    },
    {
      "cell_type": "code",
      "metadata": {
        "id": "_utZNicFZT7c",
        "colab_type": "code",
        "outputId": "b99ad7a0-ed54-4adb-b62d-ba073236710e",
        "colab": {
          "base_uri": "https://localhost:8080/",
          "height": 34
        }
      },
      "source": [
        "np.sum(L)"
      ],
      "execution_count": 7,
      "outputs": [
        {
          "output_type": "execute_result",
          "data": {
            "text/plain": [
              "51.7609740162981"
            ]
          },
          "metadata": {
            "tags": []
          },
          "execution_count": 7
        }
      ]
    },
    {
      "cell_type": "markdown",
      "metadata": {
        "id": "elb5eYqqZT7j",
        "colab_type": "text"
      },
      "source": [
        "However, because it executes the operation in compiled code, NumPy's version of the operation is computed much more quickly:"
      ]
    },
    {
      "cell_type": "code",
      "metadata": {
        "id": "ZRgdJYDSZT7k",
        "colab_type": "code",
        "outputId": "3aadf41c-d6bd-4631-d4e0-bc6725b7f44b",
        "colab": {
          "base_uri": "https://localhost:8080/",
          "height": 51
        }
      },
      "source": [
        "big_array = np.random.rand(1000000)\n",
        "%timeit sum(big_array)\n",
        "%timeit np.sum(big_array)"
      ],
      "execution_count": 8,
      "outputs": [
        {
          "output_type": "stream",
          "text": [
            "10 loops, best of 3: 167 ms per loop\n",
            "1000 loops, best of 3: 340 µs per loop\n"
          ],
          "name": "stdout"
        }
      ]
    },
    {
      "cell_type": "markdown",
      "metadata": {
        "id": "xkbLvhv8ZT7q",
        "colab_type": "text"
      },
      "source": [
        "Be careful, though: the ``sum`` function and the ``np.sum`` function are not identical, which can sometimes lead to confusion!\n",
        "In particular, their optional arguments have different meanings, and ``np.sum`` is aware of multiple array dimensions, as we will see in the following section."
      ]
    },
    {
      "cell_type": "markdown",
      "metadata": {
        "id": "2QZnz-gIZT7s",
        "colab_type": "text"
      },
      "source": [
        "## Minimum and Maximum\n",
        "\n",
        "Similarly, Python has built-in ``min`` and ``max`` functions, used to find the minimum value and maximum value of any given array:"
      ]
    },
    {
      "cell_type": "code",
      "metadata": {
        "id": "9ognTvTfZT7t",
        "colab_type": "code",
        "outputId": "3f5e68b0-1edf-44a7-d196-8511d9df5030",
        "colab": {
          "base_uri": "https://localhost:8080/",
          "height": 34
        }
      },
      "source": [
        "min(big_array), max(big_array)"
      ],
      "execution_count": 9,
      "outputs": [
        {
          "output_type": "execute_result",
          "data": {
            "text/plain": [
              "(1.2215070903653924e-06, 0.9999999517497832)"
            ]
          },
          "metadata": {
            "tags": []
          },
          "execution_count": 9
        }
      ]
    },
    {
      "cell_type": "markdown",
      "metadata": {
        "id": "WruHgOk4ZT7y",
        "colab_type": "text"
      },
      "source": [
        "NumPy's corresponding functions have similar syntax, and again operate much more quickly:"
      ]
    },
    {
      "cell_type": "code",
      "metadata": {
        "id": "5ZFPngccZT71",
        "colab_type": "code",
        "outputId": "e7545017-645a-4a19-c7b5-f373833ea0f6",
        "colab": {
          "base_uri": "https://localhost:8080/",
          "height": 34
        }
      },
      "source": [
        "np.min(big_array), np.max(big_array)"
      ],
      "execution_count": 10,
      "outputs": [
        {
          "output_type": "execute_result",
          "data": {
            "text/plain": [
              "(1.2215070903653924e-06, 0.9999999517497832)"
            ]
          },
          "metadata": {
            "tags": []
          },
          "execution_count": 10
        }
      ]
    },
    {
      "cell_type": "code",
      "metadata": {
        "id": "n_DYBwzoZT79",
        "colab_type": "code",
        "outputId": "68b6f2b5-bdc8-4651-c90a-75ff22b8c85c",
        "colab": {
          "base_uri": "https://localhost:8080/",
          "height": 51
        }
      },
      "source": [
        "%timeit min(big_array)\n",
        "%timeit np.min(big_array)"
      ],
      "execution_count": 11,
      "outputs": [
        {
          "output_type": "stream",
          "text": [
            "10 loops, best of 3: 107 ms per loop\n",
            "1000 loops, best of 3: 415 µs per loop\n"
          ],
          "name": "stdout"
        }
      ]
    },
    {
      "cell_type": "markdown",
      "metadata": {
        "id": "ad53WUwdZT8F",
        "colab_type": "text"
      },
      "source": [
        "For ``min``, ``max``, ``sum``, and several other NumPy aggregates, a shorter syntax is to use methods of the array object itself:"
      ]
    },
    {
      "cell_type": "code",
      "metadata": {
        "id": "oGs2qKB4ZT8H",
        "colab_type": "code",
        "outputId": "1126d877-e3fa-4126-e248-e017c57555be",
        "colab": {
          "base_uri": "https://localhost:8080/",
          "height": 34
        }
      },
      "source": [
        "print(big_array.min(), big_array.max(), big_array.sum())"
      ],
      "execution_count": 12,
      "outputs": [
        {
          "output_type": "stream",
          "text": [
            "1.2215070903653924e-06 0.9999999517497832 499705.41491658613\n"
          ],
          "name": "stdout"
        }
      ]
    },
    {
      "cell_type": "markdown",
      "metadata": {
        "id": "D1hG1UNBZT8O",
        "colab_type": "text"
      },
      "source": [
        "Whenever possible, make sure that you are using the NumPy version of these aggregates when operating on NumPy arrays!"
      ]
    },
    {
      "cell_type": "markdown",
      "metadata": {
        "id": "TdimyVoQZT8Q",
        "colab_type": "text"
      },
      "source": [
        "### Multi dimensional aggregates\n",
        "\n",
        "One common type of aggregation operation is an aggregate along a row or column.\n",
        "Say you have some data stored in a two-dimensional array:"
      ]
    },
    {
      "cell_type": "code",
      "metadata": {
        "id": "BgPo56xjZT8S",
        "colab_type": "code",
        "outputId": "9dca061d-4995-40d2-9828-95bab88cf989",
        "colab": {
          "base_uri": "https://localhost:8080/",
          "height": 68
        }
      },
      "source": [
        "M = np.random.random((3, 4))\n",
        "print(M)"
      ],
      "execution_count": 13,
      "outputs": [
        {
          "output_type": "stream",
          "text": [
            "[[0.96878557 0.67233748 0.42112387 0.82686258]\n",
            " [0.48151858 0.19564613 0.62166566 0.2951063 ]\n",
            " [0.76858971 0.09300461 0.25644821 0.37754144]]\n"
          ],
          "name": "stdout"
        }
      ]
    },
    {
      "cell_type": "markdown",
      "metadata": {
        "id": "5_PgHTcYZT8X",
        "colab_type": "text"
      },
      "source": [
        "By default, each NumPy aggregation function will return the aggregate over the entire array:"
      ]
    },
    {
      "cell_type": "code",
      "metadata": {
        "id": "vDr5jRmgZT8Y",
        "colab_type": "code",
        "outputId": "4cf4f2fc-9ce1-4306-997b-4ed1a59d91f3",
        "colab": {
          "base_uri": "https://localhost:8080/",
          "height": 34
        }
      },
      "source": [
        "M.sum()"
      ],
      "execution_count": 14,
      "outputs": [
        {
          "output_type": "execute_result",
          "data": {
            "text/plain": [
              "5.97863015134005"
            ]
          },
          "metadata": {
            "tags": []
          },
          "execution_count": 14
        }
      ]
    },
    {
      "cell_type": "markdown",
      "metadata": {
        "id": "mXYOHLqAZT8d",
        "colab_type": "text"
      },
      "source": [
        "Aggregation functions take an additional argument specifying the *axis* along which the aggregate is computed. For example, we can find the minimum value within each column by specifying ``axis=0``:"
      ]
    },
    {
      "cell_type": "code",
      "metadata": {
        "id": "KVRslpuOZT8f",
        "colab_type": "code",
        "outputId": "25f593f8-5c1c-463c-b89a-2250cb06d315",
        "colab": {
          "base_uri": "https://localhost:8080/",
          "height": 34
        }
      },
      "source": [
        "M.min(axis=0)"
      ],
      "execution_count": 15,
      "outputs": [
        {
          "output_type": "execute_result",
          "data": {
            "text/plain": [
              "array([0.48151858, 0.09300461, 0.25644821, 0.2951063 ])"
            ]
          },
          "metadata": {
            "tags": []
          },
          "execution_count": 15
        }
      ]
    },
    {
      "cell_type": "markdown",
      "metadata": {
        "id": "8jH-Ku61ZT8p",
        "colab_type": "text"
      },
      "source": [
        "The function returns four values, corresponding to the four columns of numbers.\n",
        "\n",
        "Similarly, we can find the maximum value within each row:"
      ]
    },
    {
      "cell_type": "code",
      "metadata": {
        "id": "dTmAXv8QZT8q",
        "colab_type": "code",
        "outputId": "bbbc6f75-0906-4fd8-84d5-e5d45ae3c5c4",
        "colab": {
          "base_uri": "https://localhost:8080/",
          "height": 34
        }
      },
      "source": [
        "M.max(axis=1)"
      ],
      "execution_count": 16,
      "outputs": [
        {
          "output_type": "execute_result",
          "data": {
            "text/plain": [
              "array([0.96878557, 0.62166566, 0.76858971])"
            ]
          },
          "metadata": {
            "tags": []
          },
          "execution_count": 16
        }
      ]
    },
    {
      "cell_type": "markdown",
      "metadata": {
        "id": "wRKx8M92ZT8v",
        "colab_type": "text"
      },
      "source": [
        "The way the axis is specified here can be confusing to users coming from other languages.\n",
        "The **axis** keyword specifies the *dimension of the array that will be collapsed*, rather than the dimension that will be returned.\n",
        "So specifying **axis=0** means that the first axis will be collapsed: for two-dimensional arrays, this means that values within each column will be aggregated."
      ]
    },
    {
      "cell_type": "markdown",
      "metadata": {
        "id": "tpELtN4FZT8w",
        "colab_type": "text"
      },
      "source": [
        "### Other aggregation functions\n",
        "\n",
        "NumPy provides many other aggregation functions, but we won't discuss them in detail here.\n",
        "Additionally, most aggregates have a ``NaN``-safe counterpart that computes the result while ignoring missing values, which are marked by the special IEEE floating-point ``NaN`` value (for a fuller discussion of missing data, see [Handling Missing Data](03.04-Missing-Values.ipynb)).\n",
        "Some of these ``NaN``-safe functions were not added until NumPy 1.8, so they will not be available in older NumPy versions.\n",
        "\n",
        "The following table provides a list of useful aggregation functions available in NumPy:\n",
        "\n",
        "|Function Name      |   NaN-safe Version  | Description                                   |\n",
        "|-------------------|---------------------|-----------------------------------------------|\n",
        "| ``np.sum``        | ``np.nansum``       | Compute sum of elements                       |\n",
        "| ``np.prod``       | ``np.nanprod``      | Compute product of elements                   |\n",
        "| ``np.mean``       | ``np.nanmean``      | Compute mean of elements                      |\n",
        "| ``np.std``        | ``np.nanstd``       | Compute standard deviation                    |\n",
        "| ``np.var``        | ``np.nanvar``       | Compute variance                              |\n",
        "| ``np.min``        | ``np.nanmin``       | Find minimum value                            |\n",
        "| ``np.max``        | ``np.nanmax``       | Find maximum value                            |\n",
        "| ``np.argmin``     | ``np.nanargmin``    | Find index of minimum value                   |\n",
        "| ``np.argmax``     | ``np.nanargmax``    | Find index of maximum value                   |\n",
        "| ``np.median``     | ``np.nanmedian``    | Compute median of elements                    |\n",
        "| ``np.percentile`` | ``np.nanpercentile``| Compute rank-based statistics of elements     |\n",
        "| ``np.any``        | N/A                 | Evaluate whether any elements are true        |\n",
        "| ``np.all``        | N/A                 | Evaluate whether all elements are true        |\n",
        "\n",
        "We will see these aggregates often throughout the rest of the book."
      ]
    },
    {
      "cell_type": "markdown",
      "metadata": {
        "id": "sNn6A2jdZT8x",
        "colab_type": "text"
      },
      "source": [
        "## Example: What is the Average Height of US Presidents?"
      ]
    },
    {
      "cell_type": "markdown",
      "metadata": {
        "id": "toR2rXbWZT8y",
        "colab_type": "text"
      },
      "source": [
        "Aggregates available in NumPy can be extremely useful for summarizing a set of values.\n",
        "As a simple example, let's consider the heights of all US presidents.\n",
        "This data is available in the file *president_heights.csv*, which is a simple comma-separated list of labels and values:"
      ]
    },
    {
      "cell_type": "code",
      "metadata": {
        "id": "m9LoWkNyZT8z",
        "colab_type": "code",
        "outputId": "c24002ce-9165-4acb-a294-86cd2c9a89b7",
        "colab": {}
      },
      "source": [
        "!head -4 data/president_heights.csv"
      ],
      "execution_count": 0,
      "outputs": [
        {
          "output_type": "stream",
          "text": [
            "order,name,height(cm)\r\n",
            "1,George Washington,189\r\n",
            "2,John Adams,170\r\n",
            "3,Thomas Jefferson,189\r\n"
          ],
          "name": "stdout"
        }
      ]
    },
    {
      "cell_type": "code",
      "metadata": {
        "id": "jVoY6zeUcVRB",
        "colab_type": "code",
        "colab": {}
      },
      "source": [
        "data = [[1, 'George Washington',189],\n",
        "[2, 'John Adams',170],\n",
        "[3, 'Thomas Jefferson',189]]"
      ],
      "execution_count": 0,
      "outputs": []
    },
    {
      "cell_type": "code",
      "metadata": {
        "id": "ZiDuKuZzdCcl",
        "colab_type": "code",
        "colab": {
          "base_uri": "https://localhost:8080/",
          "height": 34
        },
        "outputId": "6f72f077-4c0b-481d-bbf9-8861af1e5946"
      },
      "source": [
        "data = np.array(data)\n",
        "data.dtype"
      ],
      "execution_count": 37,
      "outputs": [
        {
          "output_type": "execute_result",
          "data": {
            "text/plain": [
              "dtype('<U21')"
            ]
          },
          "metadata": {
            "tags": []
          },
          "execution_count": 37
        }
      ]
    },
    {
      "cell_type": "code",
      "metadata": {
        "id": "_IJMFU8_dLhS",
        "colab_type": "code",
        "colab": {
          "base_uri": "https://localhost:8080/",
          "height": 68
        },
        "outputId": "2a9d4b5d-0862-4bc1-f57b-221e31d33509"
      },
      "source": [
        "data"
      ],
      "execution_count": 38,
      "outputs": [
        {
          "output_type": "execute_result",
          "data": {
            "text/plain": [
              "array([['1', 'George Washington', '189'],\n",
              "       ['2', 'John Adams', '170'],\n",
              "       ['3', 'Thomas Jefferson', '189']], dtype='<U21')"
            ]
          },
          "metadata": {
            "tags": []
          },
          "execution_count": 38
        }
      ]
    },
    {
      "cell_type": "code",
      "metadata": {
        "id": "XBahoTUUdOq3",
        "colab_type": "code",
        "colab": {}
      },
      "source": [
        "columns = np.array(['order', 'name', 'height(cm)'])"
      ],
      "execution_count": 0,
      "outputs": []
    },
    {
      "cell_type": "markdown",
      "metadata": {
        "id": "iaTxYtuSZT86",
        "colab_type": "text"
      },
      "source": [
        "We'll use the Pandas package, which we'll explore more fully in [Chapter 3](03.00-Introduction-to-Pandas.ipynb), to read the file and extract this information (note that the heights are measured in centimeters)."
      ]
    },
    {
      "cell_type": "code",
      "metadata": {
        "id": "VQxOw9c8ZT88",
        "colab_type": "code",
        "outputId": "05c614dd-0a10-4887-b2bc-cf9c15dd2a07",
        "colab": {
          "base_uri": "https://localhost:8080/",
          "height": 142
        }
      },
      "source": [
        "import pandas as pd\n",
        "data = pd.DataFrame(data, columns = columns)\n",
        "data"
      ],
      "execution_count": 40,
      "outputs": [
        {
          "output_type": "execute_result",
          "data": {
            "text/html": [
              "<div>\n",
              "<style scoped>\n",
              "    .dataframe tbody tr th:only-of-type {\n",
              "        vertical-align: middle;\n",
              "    }\n",
              "\n",
              "    .dataframe tbody tr th {\n",
              "        vertical-align: top;\n",
              "    }\n",
              "\n",
              "    .dataframe thead th {\n",
              "        text-align: right;\n",
              "    }\n",
              "</style>\n",
              "<table border=\"1\" class=\"dataframe\">\n",
              "  <thead>\n",
              "    <tr style=\"text-align: right;\">\n",
              "      <th></th>\n",
              "      <th>order</th>\n",
              "      <th>name</th>\n",
              "      <th>height(cm)</th>\n",
              "    </tr>\n",
              "  </thead>\n",
              "  <tbody>\n",
              "    <tr>\n",
              "      <th>0</th>\n",
              "      <td>1</td>\n",
              "      <td>George Washington</td>\n",
              "      <td>189</td>\n",
              "    </tr>\n",
              "    <tr>\n",
              "      <th>1</th>\n",
              "      <td>2</td>\n",
              "      <td>John Adams</td>\n",
              "      <td>170</td>\n",
              "    </tr>\n",
              "    <tr>\n",
              "      <th>2</th>\n",
              "      <td>3</td>\n",
              "      <td>Thomas Jefferson</td>\n",
              "      <td>189</td>\n",
              "    </tr>\n",
              "  </tbody>\n",
              "</table>\n",
              "</div>"
            ],
            "text/plain": [
              "  order               name height(cm)\n",
              "0     1  George Washington        189\n",
              "1     2         John Adams        170\n",
              "2     3   Thomas Jefferson        189"
            ]
          },
          "metadata": {
            "tags": []
          },
          "execution_count": 40
        }
      ]
    },
    {
      "cell_type": "code",
      "metadata": {
        "id": "vv69MSwllKFH",
        "colab_type": "code",
        "colab": {
          "base_uri": "https://localhost:8080/",
          "height": 34
        },
        "outputId": "0bc74b32-16e5-4e7e-d6df-7f6bbee0a631"
      },
      "source": [
        "height = data['height(cm)'].values\n",
        "height"
      ],
      "execution_count": 44,
      "outputs": [
        {
          "output_type": "execute_result",
          "data": {
            "text/plain": [
              "array(['189', '170', '189'], dtype=object)"
            ]
          },
          "metadata": {
            "tags": []
          },
          "execution_count": 44
        }
      ]
    },
    {
      "cell_type": "code",
      "metadata": {
        "id": "2uu6zV2QlWjo",
        "colab_type": "code",
        "colab": {
          "base_uri": "https://localhost:8080/",
          "height": 34
        },
        "outputId": "1264c3b2-fe49-4cf1-e549-14207db31055"
      },
      "source": [
        "height = height.astype(dtype = np.float64)\n",
        "height"
      ],
      "execution_count": 45,
      "outputs": [
        {
          "output_type": "execute_result",
          "data": {
            "text/plain": [
              "array([189., 170., 189.])"
            ]
          },
          "metadata": {
            "tags": []
          },
          "execution_count": 45
        }
      ]
    },
    {
      "cell_type": "code",
      "metadata": {
        "id": "I-aUJvWClI0z",
        "colab_type": "code",
        "colab": {}
      },
      "source": [
        "heights = height"
      ],
      "execution_count": 0,
      "outputs": []
    },
    {
      "cell_type": "markdown",
      "metadata": {
        "id": "5dlQfwh6ZT9A",
        "colab_type": "text"
      },
      "source": [
        "Now that we have this data array, we can compute a variety of summary statistics:"
      ]
    },
    {
      "cell_type": "code",
      "metadata": {
        "id": "JVwl-XCuZT9B",
        "colab_type": "code",
        "outputId": "e667cfb3-ef3d-4d3e-fe9f-b391bb5f3c61",
        "colab": {
          "base_uri": "https://localhost:8080/",
          "height": 85
        }
      },
      "source": [
        "print(\"Mean height:       \", heights.mean())\n",
        "print(\"Standard deviation:\", heights.std())\n",
        "print(\"Minimum height:    \", heights.min())\n",
        "print(\"Maximum height:    \", heights.max())"
      ],
      "execution_count": 47,
      "outputs": [
        {
          "output_type": "stream",
          "text": [
            "Mean height:        182.66666666666666\n",
            "Standard deviation: 8.9566858950296\n",
            "Minimum height:     170.0\n",
            "Maximum height:     189.0\n"
          ],
          "name": "stdout"
        }
      ]
    },
    {
      "cell_type": "markdown",
      "metadata": {
        "id": "QeffK8h4ZT9F",
        "colab_type": "text"
      },
      "source": [
        "Note that in each case, the aggregation operation reduced the entire array to a single summarizing value, which gives us information about the distribution of values.\n",
        "We may also wish to compute quantiles:"
      ]
    },
    {
      "cell_type": "code",
      "metadata": {
        "id": "thMfCR1QZT9H",
        "colab_type": "code",
        "outputId": "a4eab525-efa7-4c89-a685-2b0854cbea2f",
        "colab": {
          "base_uri": "https://localhost:8080/",
          "height": 68
        }
      },
      "source": [
        "print(\"25th percentile:   \", np.percentile(heights, 25))\n",
        "print(\"Median:            \", np.median(heights))\n",
        "print(\"75th percentile:   \", np.percentile(heights, 75))"
      ],
      "execution_count": 48,
      "outputs": [
        {
          "output_type": "stream",
          "text": [
            "25th percentile:    179.5\n",
            "Median:             189.0\n",
            "75th percentile:    189.0\n"
          ],
          "name": "stdout"
        }
      ]
    },
    {
      "cell_type": "markdown",
      "metadata": {
        "id": "cCueQ8m2ZT9L",
        "colab_type": "text"
      },
      "source": [
        "We see that the median height of US presidents is 182 cm, or just shy of six feet.\n",
        "\n",
        "Of course, sometimes it's more useful to see a visual representation of this data, which we can accomplish using tools in Matplotlib (we'll discuss Matplotlib more fully in [Chapter 4](04.00-Introduction-To-Matplotlib.ipynb)). For example, this code generates the following chart:"
      ]
    },
    {
      "cell_type": "code",
      "metadata": {
        "id": "xUOnOjxeZT9M",
        "colab_type": "code",
        "colab": {}
      },
      "source": [
        "%matplotlib inline\n",
        "import matplotlib.pyplot as plt\n",
        "import seaborn; seaborn.set()  # set plot style"
      ],
      "execution_count": 0,
      "outputs": []
    },
    {
      "cell_type": "code",
      "metadata": {
        "id": "WTZvz7CMZT9P",
        "colab_type": "code",
        "outputId": "b910b944-bbff-49e7-8015-e39b69e3f152",
        "colab": {
          "base_uri": "https://localhost:8080/",
          "height": 301
        }
      },
      "source": [
        "plt.hist(heights)\n",
        "plt.title('Height Distribution of US Presidents')\n",
        "plt.xlabel('height (cm)')\n",
        "plt.ylabel('number');"
      ],
      "execution_count": 50,
      "outputs": [
        {
          "output_type": "display_data",
          "data": {
            "image/png": "[encoded data removed]",
            "text/plain": [
              "<Figure size 432x288 with 1 Axes>"
            ]
          },
          "metadata": {
            "tags": []
          }
        }
      ]
    },
    {
      "cell_type": "markdown",
      "metadata": {
        "id": "RQV5EpkpZT9U",
        "colab_type": "text"
      },
      "source": [
        "These aggregates are some of the fundamental pieces of exploratory data analysis that we'll explore in more depth in later chapters of the book."
      ]
    },
    {
      "cell_type": "markdown",
      "metadata": {
        "id": "ggDeZKg7ZT9W",
        "colab_type": "text"
      },
      "source": [
        "<!--NAVIGATION-->\n",
        "< [Computation on NumPy Arrays: Universal Functions](02.03-Computation-on-arrays-ufuncs.ipynb) | [Contents](Index.ipynb) | [Computation on Arrays: Broadcasting](02.05-Computation-on-arrays-broadcasting.ipynb) >"
      ]
    },
    {
      "cell_type": "code",
      "metadata": {
        "id": "v9nO5MYRl96w",
        "colab_type": "code",
        "colab": {}
      },
      "source": [
        ""
      ],
      "execution_count": 0,
      "outputs": []
    }
  ]
}